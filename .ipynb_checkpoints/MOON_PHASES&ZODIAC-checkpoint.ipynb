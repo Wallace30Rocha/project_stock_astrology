{
 "cells": [
  {
   "cell_type": "markdown",
   "id": "19f6df31",
   "metadata": {
    "heading_collapsed": true
   },
   "source": [
    "# Moon Phases"
   ]
  },
  {
   "cell_type": "code",
   "execution_count": null,
   "id": "8db1dd57",
   "metadata": {
    "ExecuteTime": {
     "end_time": "2023-04-23T03:45:26.869321Z",
     "start_time": "2023-04-23T03:45:26.170243Z"
    },
    "hidden": true
   },
   "outputs": [],
   "source": [
    "import pandas as pd\n",
    "import numpy as np\n",
    "import re\n",
    "from selenium import webdriver\n",
    "from selenium.webdriver.chrome.service import Service\n",
    "from webdriver_manager.chrome import ChromeDriverManager\n",
    "from selenium.webdriver.common.by import By"
   ]
  },
  {
   "cell_type": "code",
   "execution_count": null,
   "id": "54c20a48",
   "metadata": {
    "ExecuteTime": {
     "end_time": "2023-04-23T03:45:28.531629Z",
     "start_time": "2023-04-23T03:45:26.876259Z"
    },
    "hidden": true
   },
   "outputs": [],
   "source": [
    "#open a chrome web browser\n",
    "service = Service(executable_path=ChromeDriverManager().install())\n",
    "driver = webdriver.Chrome(service = service)"
   ]
  },
  {
   "cell_type": "code",
   "execution_count": null,
   "id": "9f401e25",
   "metadata": {
    "ExecuteTime": {
     "end_time": "2023-04-23T03:45:33.590857Z",
     "start_time": "2023-04-23T03:45:28.539624Z"
    },
    "hidden": true
   },
   "outputs": [],
   "source": [
    "#determine the url to be scrapped\n",
    "url = 'https://mooncalendar.astro-seek.com/moon-phases-calendar-january-2023'\n",
    "driver.get(url)"
   ]
  },
  {
   "cell_type": "code",
   "execution_count": null,
   "id": "cc996a02",
   "metadata": {
    "ExecuteTime": {
     "end_time": "2023-04-23T03:46:25.242205Z",
     "start_time": "2023-04-23T03:46:21.526982Z"
    },
    "hidden": true
   },
   "outputs": [],
   "source": [
    "#inspect the element 1928 in the table in the bottom of the website and get the xpath and click on it\n",
    "#**note that it is not automated. The user must to copy the xpath and paste here everything time that the code will run\n",
    "driver.find_element(By.XPATH, '/html/body/div[2]/div[1]/div[4]/div[1]/div[5]/div[7]/div[2]/div/div[2]/a[29]').click()"
   ]
  },
  {
   "cell_type": "code",
   "execution_count": null,
   "id": "b80bcb03",
   "metadata": {
    "ExecuteTime": {
     "end_time": "2023-04-23T03:45:34.980876Z",
     "start_time": "2023-04-23T03:45:34.980876Z"
    },
    "code_folding": [
     0
    ],
    "hidden": true
   },
   "outputs": [],
   "source": [
    "#find the table\n",
    "#table_moon = driver.find_element('xpath', '//*[@id=\"tab1\"]/div/table')"
   ]
  },
  {
   "cell_type": "code",
   "execution_count": null,
   "id": "9bbabe82",
   "metadata": {
    "ExecuteTime": {
     "end_time": "2023-04-23T03:45:34.982875Z",
     "start_time": "2023-04-23T03:45:34.982875Z"
    },
    "hidden": true
   },
   "outputs": [],
   "source": [
    "months_url = pd.Series(['january','february','march','april','may','june','july','august','september','october','november','december'],name = 'month')\n",
    "\n",
    "#create a series with the range of years that will be extracted\n",
    "years_url = pd.Series(list(range(1928,2024)), name = 'year')\n",
    "\n",
    "#merge both series\n",
    "df = pd.merge(months_url, years_url, how = 'cross')\n",
    "\n",
    "#manipulate the url to get the desired year and month from each table\n",
    "lista_url = ('https://mooncalendar.astro-seek.com/moon-phases-calendar-' + df['month']+'-'+df['year'].astype('str')).to_list()\n",
    "\n",
    "#empty list to store the the maniputaltion and treatment\n",
    "lista_df =[]\n",
    "\n",
    "#loop to run the the same treatment for all collected tables\n",
    "for url in lista_url:\n",
    "    df_moon = pd.read_html(url, header = [0])[0]\n",
    "    df_moon['year'] = lista_url[0][-4:]\n",
    "    df_moon['Date'] = pd.to_datetime(df_moon['Date.1'] + ' ' + url[-4:])\n",
    "    df_moon = df_moon.drop(['Date.1', 'Moon Phase(Lunar Phase)', 'Organs influenced by the Moon Sign ------Surgery', 'Organs influenced by the Moon Sign ------Surgery.1'], axis = 1)\n",
    "    df_moon = df_moon.rename(columns = {'Moon Phase(Lunar Phase).1': 'Moon Phase'})\n",
    "    df_moon['Moon Phase'] = df_moon['Moon Phase'].str.replace(r'\\s*at.*', '')    \n",
    "    df_moon['Moon Sign'] = df_moon['Moon Sign'].str.replace(r'^.*?(\\d.*)', r'\\1')\n",
    "    df_moon['Moon Sign'] = df_moon['Moon Sign'].str.replace(r'[\\d:]+', '')\n",
    "    df_moon = df_moon.drop(['year'], axis = 1)\n",
    "    df_moon[['Moon Phase', 'Moon Sign']] = df_moon[['Moon Phase', 'Moon Sign']].apply(lambda x: x.str.lower())\n",
    "    df_moon = df_moon.sort_values(by = 'Date', ignore_index = True)\n",
    "    \n",
    "    lista_df.append(df_moon)\n",
    "    \n",
    "#concat the list with the dataframe\n",
    "df_concat = pd.concat(lista_df, ignore_index = True)\n",
    "\n",
    "#organize the df by Date column\n",
    "df_concat_moon = df_concat_moon.sort_values(by = 'Date', ignore_index = True)\n",
    "\n"
   ]
  },
  {
   "cell_type": "code",
   "execution_count": null,
   "id": "7a5ac255",
   "metadata": {
    "ExecuteTime": {
     "end_time": "2023-04-23T03:45:34.985877Z",
     "start_time": "2023-04-23T03:45:34.985877Z"
    },
    "hidden": true
   },
   "outputs": [],
   "source": [
    "df_concat_moon.head(50)"
   ]
  },
  {
   "cell_type": "code",
   "execution_count": null,
   "id": "8491f3fe",
   "metadata": {
    "ExecuteTime": {
     "end_time": "2023-04-23T03:45:34.990252Z",
     "start_time": "2023-04-23T03:45:34.990252Z"
    },
    "hidden": true
   },
   "outputs": [],
   "source": [
    "#check if there are NaN in in the columns\n",
    "date_nan = df_concat_moon['Date'].isna().any()\n",
    "mp_nan = df_concat_moon['Moon Phase'].isna().any()\n",
    "ms_nan = df_concat_moon['Moon Phase'].isna().any()\n",
    "print(f\"Date column has NaN: {date_nan}\\nMoon Phase column has NaN: {mp_nan}\\nMoon Sign column has NaN: {ms_nan}\")\n",
    "\n",
    "#check if there are numeric digits in the columns\n",
    "mp_digits = df_concat_moon['Moon Phase'].str.contains(r'\\d').any()\n",
    "ms_digits = df_concat_moon['Moon Sign'].str.contains(r'\\d').any()\n",
    "print(f\"Moon Phase column has numeric digits: {mp_digits}\\nMoon Sign column has numeric digits: {ms_digits}\")\n",
    "\n",
    "#check if there are spcial characters in the columns\n",
    "mp_special = df_concat_moon['Moon Phase'].str.contains(r'[!@#$%^&*(),.?\":{}|<>]').any()\n",
    "ms_special = df_concat_moon['Moon Sign'].str.contains(r'[!@#$%^&*(),.?\":{}|<>]').any()\n",
    "print(f\"Moon Phase column has special characters: {mp_special}\\nMoon Sign column has special characters: {ms_special}\")"
   ]
  },
  {
   "cell_type": "code",
   "execution_count": null,
   "id": "caf00f7c",
   "metadata": {
    "ExecuteTime": {
     "end_time": "2023-04-23T03:47:11.823451Z",
     "start_time": "2023-04-23T03:47:11.797091Z"
    },
    "hidden": true
   },
   "outputs": [],
   "source": [
    "#save as csv file\n",
    "df_concat_moon.to_csv(r'C:\\Users\\PC\\Desktop\\Ironhack\\WR_Ironhack_Projects\\Stock&Moon\\moon_phases.csv', index = False)"
   ]
  },
  {
   "cell_type": "code",
   "execution_count": null,
   "id": "07a92e24",
   "metadata": {
    "hidden": true
   },
   "outputs": [],
   "source": [
    "file = open(r'C:\\Users\\PC\\Desktop\\Ironhack\\WR_Ironhack_Projects\\Stock&Moon\\moon_phases.csv')\n",
    "df_moon = pd.read_csv(file)"
   ]
  },
  {
   "cell_type": "code",
   "execution_count": null,
   "id": "7a892960",
   "metadata": {
    "hidden": true
   },
   "outputs": [],
   "source": [
    "for row in range(0, len(df_moon), 7):\n",
    "    df_moon = df_moon.drop(df_moon.index[row+7:row+9], errors='ignore')\n",
    "\n",
    "# reset the index of the dataframe\n",
    "df_moon = df_moon.reset_index(drop=True)"
   ]
  }
 ],
 "metadata": {
  "kernelspec": {
   "display_name": "Python 3 (ipykernel)",
   "language": "python",
   "name": "python3"
  },
  "language_info": {
   "codemirror_mode": {
    "name": "ipython",
    "version": 3
   },
   "file_extension": ".py",
   "mimetype": "text/x-python",
   "name": "python",
   "nbconvert_exporter": "python",
   "pygments_lexer": "ipython3",
   "version": "3.9.13"
  },
  "toc": {
   "base_numbering": 1,
   "nav_menu": {},
   "number_sections": true,
   "sideBar": true,
   "skip_h1_title": false,
   "title_cell": "Table of Contents",
   "title_sidebar": "Contents",
   "toc_cell": false,
   "toc_position": {},
   "toc_section_display": true,
   "toc_window_display": false
  },
  "varInspector": {
   "cols": {
    "lenName": 16,
    "lenType": 16,
    "lenVar": 40
   },
   "kernels_config": {
    "python": {
     "delete_cmd_postfix": "",
     "delete_cmd_prefix": "del ",
     "library": "var_list.py",
     "varRefreshCmd": "print(var_dic_list())"
    },
    "r": {
     "delete_cmd_postfix": ") ",
     "delete_cmd_prefix": "rm(",
     "library": "var_list.r",
     "varRefreshCmd": "cat(var_dic_list()) "
    }
   },
   "types_to_exclude": [
    "module",
    "function",
    "builtin_function_or_method",
    "instance",
    "_Feature"
   ],
   "window_display": false
  }
 },
 "nbformat": 4,
 "nbformat_minor": 5
}

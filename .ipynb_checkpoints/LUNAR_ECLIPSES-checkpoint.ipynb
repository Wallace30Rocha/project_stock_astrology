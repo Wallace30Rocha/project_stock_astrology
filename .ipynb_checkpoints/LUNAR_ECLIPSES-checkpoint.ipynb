{
 "cells": [
  {
   "cell_type": "markdown",
   "id": "abac2a9f",
   "metadata": {},
   "source": [
    "# LUNAR ECLIPSES"
   ]
  },
  {
   "cell_type": "code",
   "execution_count": 1,
   "id": "b24411f8",
   "metadata": {
    "ExecuteTime": {
     "end_time": "2023-04-23T03:33:21.915519Z",
     "start_time": "2023-04-23T03:33:21.228338Z"
    }
   },
   "outputs": [],
   "source": [
    "import pandas as pd\n",
    "import numpy as np\n",
    "import re\n",
    "from selenium import webdriver\n",
    "from selenium.webdriver.chrome.service import Service\n",
    "from webdriver_manager.chrome import ChromeDriverManager\n",
    "from selenium.webdriver.common.by import By"
   ]
  },
  {
   "cell_type": "code",
   "execution_count": 2,
   "id": "9804dd36",
   "metadata": {
    "ExecuteTime": {
     "end_time": "2023-04-23T03:33:23.440680Z",
     "start_time": "2023-04-23T03:33:21.917485Z"
    }
   },
   "outputs": [],
   "source": [
    "#open a chrome web browser\n",
    "service = Service(executable_path=ChromeDriverManager().install())\n",
    "driver = webdriver.Chrome(service = service)"
   ]
  },
  {
   "cell_type": "code",
   "execution_count": 3,
   "id": "de9307ec",
   "metadata": {
    "ExecuteTime": {
     "end_time": "2023-04-23T03:33:25.229175Z",
     "start_time": "2023-04-23T03:33:23.450391Z"
    }
   },
   "outputs": [],
   "source": [
    "#determine the url to be scrapped\n",
    "url = 'https://eclipse.gsfc.nasa.gov/lunar.html'\n",
    "driver.get(url)"
   ]
  },
  {
   "cell_type": "code",
   "execution_count": 4,
   "id": "8105b11d",
   "metadata": {
    "ExecuteTime": {
     "end_time": "2023-04-23T03:33:25.493606Z",
     "start_time": "2023-04-23T03:33:25.232078Z"
    }
   },
   "outputs": [],
   "source": [
    "#inspect the element 1928 in the table in the bottom of the website and get the xpath and click on it\n",
    "driver.find_element(By.XPATH, '//*[@id=\"singlecolumn\"]/table[2]/tbody/tr[2]/td[3]/a').click()"
   ]
  },
  {
   "cell_type": "code",
   "execution_count": 5,
   "id": "1f3ad3d8",
   "metadata": {
    "ExecuteTime": {
     "end_time": "2023-04-23T03:33:34.444676Z",
     "start_time": "2023-04-23T03:33:25.497586Z"
    }
   },
   "outputs": [],
   "source": [
    "#years = list(1921, 1931, 1941, 1951, 1961, 1971, 1981, 1991, 2001, 2011, 2021)\n",
    "years = [1921, 1931, 1941, 1951, 1961, 1971, 1981, 1991, 2001, 2011, 2021]\n",
    "\n",
    "#create an empty list to store the tables for each month of each year\n",
    "table = []\n",
    "\n",
    "#loop all the years and months to collect the tables\n",
    "for year in years:\n",
    "    # Manipulate the URL to get the desired year and month for each table\n",
    "    url = f'https://eclipse.gsfc.nasa.gov/LEdecade/LEdecade{year}.html'\n",
    "    try:\n",
    "        #read the html table from the URL and treat the columns\n",
    "        df_ecl = pd.read_html(url, header= [0])[0]\n",
    "        df_ecl.columns = df_ecl.iloc[0]\n",
    "        df_ecl = df_ecl[1:]\n",
    "        df_ecl = df_ecl.drop(['TD of Greatest Eclipse', 'Saros Series', 'Umbral Magnitude', 'Eclipse Duration',\n",
    "                            'Geographic Region of Eclipse Visibility'], axis = 1)\n",
    "        df_ecl = df_ecl.rename(columns = {'Calendar Date': 'Date', 'Eclipse Type': 'Lunar Eclipse Intensity Type'})\n",
    "        df_ecl = df_ecl.dropna(axis=1, how='all')\n",
    "        df_ecl = df_ecl[df_ecl['Date'] >= '1928-01-01']\n",
    "        \n",
    "        table.append(df_ecl)\n",
    "    \n",
    "        df_ecl['Date'] = pd.to_datetime(df_ecl['Date'], format='%Y %b %d')\n",
    "        \n",
    "    except Exception as e:\n",
    "        print(f\"Error: Unable to read {url} erro: {e}\")\n",
    "\n",
    "#concatenate the table\n",
    "df_concat_ecl = pd.concat(table, ignore_index = True)        "
   ]
  },
  {
   "cell_type": "code",
   "execution_count": 6,
   "id": "43a947df",
   "metadata": {
    "ExecuteTime": {
     "end_time": "2023-04-23T03:33:34.476595Z",
     "start_time": "2023-04-23T03:33:34.446673Z"
    }
   },
   "outputs": [
    {
     "data": {
      "text/html": [
       "<div>\n",
       "<style scoped>\n",
       "    .dataframe tbody tr th:only-of-type {\n",
       "        vertical-align: middle;\n",
       "    }\n",
       "\n",
       "    .dataframe tbody tr th {\n",
       "        vertical-align: top;\n",
       "    }\n",
       "\n",
       "    .dataframe thead th {\n",
       "        text-align: right;\n",
       "    }\n",
       "</style>\n",
       "<table border=\"1\" class=\"dataframe\">\n",
       "  <thead>\n",
       "    <tr style=\"text-align: right;\">\n",
       "      <th></th>\n",
       "      <th>Date</th>\n",
       "      <th>Lunar Eclipse Intensity Type</th>\n",
       "    </tr>\n",
       "  </thead>\n",
       "  <tbody>\n",
       "    <tr>\n",
       "      <th>0</th>\n",
       "      <td>1929-05-23</td>\n",
       "      <td>Penumbral</td>\n",
       "    </tr>\n",
       "    <tr>\n",
       "      <th>1</th>\n",
       "      <td>1929-11-17</td>\n",
       "      <td>Penumbral</td>\n",
       "    </tr>\n",
       "    <tr>\n",
       "      <th>2</th>\n",
       "      <td>1930-04-13</td>\n",
       "      <td>Partial</td>\n",
       "    </tr>\n",
       "    <tr>\n",
       "      <th>3</th>\n",
       "      <td>1930-10-07</td>\n",
       "      <td>Partial</td>\n",
       "    </tr>\n",
       "    <tr>\n",
       "      <th>4</th>\n",
       "      <td>1931-04-02</td>\n",
       "      <td>Total</td>\n",
       "    </tr>\n",
       "    <tr>\n",
       "      <th>...</th>\n",
       "      <td>...</td>\n",
       "      <td>...</td>\n",
       "    </tr>\n",
       "    <tr>\n",
       "      <th>228</th>\n",
       "      <td>2028-12-31</td>\n",
       "      <td>Total</td>\n",
       "    </tr>\n",
       "    <tr>\n",
       "      <th>229</th>\n",
       "      <td>2029-06-26</td>\n",
       "      <td>Total</td>\n",
       "    </tr>\n",
       "    <tr>\n",
       "      <th>230</th>\n",
       "      <td>2029-12-20</td>\n",
       "      <td>Total</td>\n",
       "    </tr>\n",
       "    <tr>\n",
       "      <th>231</th>\n",
       "      <td>2030-06-15</td>\n",
       "      <td>Partial</td>\n",
       "    </tr>\n",
       "    <tr>\n",
       "      <th>232</th>\n",
       "      <td>2030-12-09</td>\n",
       "      <td>Penumbral</td>\n",
       "    </tr>\n",
       "  </tbody>\n",
       "</table>\n",
       "<p>233 rows × 2 columns</p>\n",
       "</div>"
      ],
      "text/plain": [
       "0         Date Lunar Eclipse Intensity Type\n",
       "0   1929-05-23                    Penumbral\n",
       "1   1929-11-17                    Penumbral\n",
       "2   1930-04-13                      Partial\n",
       "3   1930-10-07                      Partial\n",
       "4   1931-04-02                        Total\n",
       "..         ...                          ...\n",
       "228 2028-12-31                        Total\n",
       "229 2029-06-26                        Total\n",
       "230 2029-12-20                        Total\n",
       "231 2030-06-15                      Partial\n",
       "232 2030-12-09                    Penumbral\n",
       "\n",
       "[233 rows x 2 columns]"
      ]
     },
     "execution_count": 6,
     "metadata": {},
     "output_type": "execute_result"
    }
   ],
   "source": [
    "df_concat_ecl"
   ]
  },
  {
   "cell_type": "code",
   "execution_count": 7,
   "id": "1592f31a",
   "metadata": {
    "ExecuteTime": {
     "end_time": "2023-04-23T03:33:34.492550Z",
     "start_time": "2023-04-23T03:33:34.478589Z"
    }
   },
   "outputs": [
    {
     "name": "stdout",
     "output_type": "stream",
     "text": [
      "Date column has NaN: False\n",
      "Lunar Eclipse Intensity Type column has NaN: False\n",
      "Lunar Eclipse Intensity Type column has numeric digits: False\n",
      "Lunar Eclipse Intensity Type column has special characters: False\n"
     ]
    }
   ],
   "source": [
    "date_nan = df_concat_ecl['Date'].isna().any()\n",
    "ecl_nan = df_concat_ecl['Lunar Eclipse Intensity Type'].isna().any()\n",
    "print(f\"Date column has NaN: {date_nan}\\nLunar Eclipse Intensity Type column has NaN: {ecl_nan}\")\n",
    "\n",
    "#check if there are numeric digits in the columns\n",
    "ecl_digits = df_concat_ecl['Lunar Eclipse Intensity Type'].str.contains(r'\\d').any()\n",
    "print(f\"Lunar Eclipse Intensity Type column has numeric digits: {ecl_digits}\")\n",
    "\n",
    "#check if there are spcial characters in the columns\n",
    "ecl_special = df_concat_ecl['Lunar Eclipse Intensity Type'].str.contains(r'[!@#$%^&*(),.?\":{}|<>]').any()\n",
    "print(f\"Lunar Eclipse Intensity Type column has special characters: {ecl_special}\")"
   ]
  },
  {
   "cell_type": "code",
   "execution_count": 8,
   "id": "04ea3abf",
   "metadata": {
    "ExecuteTime": {
     "end_time": "2023-04-23T03:33:34.508542Z",
     "start_time": "2023-04-23T03:33:34.494545Z"
    }
   },
   "outputs": [],
   "source": [
    "df_concat_ecl.to_csv(r'C:\\Users\\PC\\Desktop\\Ironhack\\WR_Ironhack_Projects\\Stock&Moon\\lunar_eclipses.csv', index = False)"
   ]
  }
 ],
 "metadata": {
  "kernelspec": {
   "display_name": "Python 3 (ipykernel)",
   "language": "python",
   "name": "python3"
  },
  "language_info": {
   "codemirror_mode": {
    "name": "ipython",
    "version": 3
   },
   "file_extension": ".py",
   "mimetype": "text/x-python",
   "name": "python",
   "nbconvert_exporter": "python",
   "pygments_lexer": "ipython3",
   "version": "3.9.13"
  },
  "toc": {
   "base_numbering": 1,
   "nav_menu": {},
   "number_sections": true,
   "sideBar": true,
   "skip_h1_title": false,
   "title_cell": "Table of Contents",
   "title_sidebar": "Contents",
   "toc_cell": false,
   "toc_position": {},
   "toc_section_display": true,
   "toc_window_display": false
  },
  "varInspector": {
   "cols": {
    "lenName": 16,
    "lenType": 16,
    "lenVar": 40
   },
   "kernels_config": {
    "python": {
     "delete_cmd_postfix": "",
     "delete_cmd_prefix": "del ",
     "library": "var_list.py",
     "varRefreshCmd": "print(var_dic_list())"
    },
    "r": {
     "delete_cmd_postfix": ") ",
     "delete_cmd_prefix": "rm(",
     "library": "var_list.r",
     "varRefreshCmd": "cat(var_dic_list()) "
    }
   },
   "types_to_exclude": [
    "module",
    "function",
    "builtin_function_or_method",
    "instance",
    "_Feature"
   ],
   "window_display": false
  }
 },
 "nbformat": 4,
 "nbformat_minor": 5
}

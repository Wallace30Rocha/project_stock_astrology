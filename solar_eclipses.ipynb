{
 "cells": [
  {
   "cell_type": "markdown",
   "id": "4170ad73",
   "metadata": {
    "heading_collapsed": true
   },
   "source": [
    "# SOLAR ECLIPSES"
   ]
  },
  {
   "cell_type": "code",
   "execution_count": 1,
   "id": "448efec2",
   "metadata": {
    "ExecuteTime": {
     "end_time": "2023-04-23T03:32:00.075546Z",
     "start_time": "2023-04-23T03:31:59.368772Z"
    },
    "hidden": true
   },
   "outputs": [],
   "source": [
    "import pandas as pd\n",
    "import numpy as np\n",
    "import re\n",
    "from selenium import webdriver\n",
    "from selenium.webdriver.chrome.service import Service\n",
    "from webdriver_manager.chrome import ChromeDriverManager\n",
    "from selenium.webdriver.common.by import By"
   ]
  },
  {
   "cell_type": "code",
   "execution_count": 2,
   "id": "838a8220",
   "metadata": {
    "ExecuteTime": {
     "end_time": "2023-04-23T03:32:01.620780Z",
     "start_time": "2023-04-23T03:32:00.082217Z"
    },
    "hidden": true
   },
   "outputs": [],
   "source": [
    "#open a chrome web browser\n",
    "service = Service(executable_path=ChromeDriverManager().install())\n",
    "driver = webdriver.Chrome(service = service)"
   ]
  },
  {
   "cell_type": "code",
   "execution_count": 3,
   "id": "94995a88",
   "metadata": {
    "ExecuteTime": {
     "end_time": "2023-04-23T03:32:03.523670Z",
     "start_time": "2023-04-23T03:32:01.628563Z"
    },
    "hidden": true
   },
   "outputs": [],
   "source": [
    "#determine the url to be scrapped\n",
    "url = 'https://eclipse.gsfc.nasa.gov/solar.html'\n",
    "driver.get(url)"
   ]
  },
  {
   "cell_type": "code",
   "execution_count": 4,
   "id": "c2dc6d3d",
   "metadata": {
    "ExecuteTime": {
     "end_time": "2023-04-23T03:32:03.834071Z",
     "start_time": "2023-04-23T03:32:03.532601Z"
    },
    "hidden": true
   },
   "outputs": [],
   "source": [
    "#inspect the element 1928 in the table in the bottom of the website and get the xpath and click on it\n",
    "driver.find_element(By.XPATH, '//*[@id=\"singlecolumn\"]/table[3]/tbody/tr[2]/td[3]/a').click()"
   ]
  },
  {
   "cell_type": "code",
   "execution_count": 5,
   "id": "38643813",
   "metadata": {
    "ExecuteTime": {
     "end_time": "2023-04-23T03:32:13.045686Z",
     "start_time": "2023-04-23T03:32:03.836066Z"
    },
    "hidden": true
   },
   "outputs": [],
   "source": [
    "#list of twenty year table links\n",
    "years = [1921, 1931, 1941, 1951, 1961, 1971, 1981, 1991, 2001, 2011, 2021]\n",
    "\n",
    "#create an empty list to store the tables for each month of each year\n",
    "table = []\n",
    "\n",
    "#loop all the years and months to collect the tables\n",
    "for year in years:\n",
    "    # Manipulate the URL to get the desired year and month for each table\n",
    "    url = f'https://eclipse.gsfc.nasa.gov/SEdecade/SEdecade{year}.html'\n",
    "    try:\n",
    "        #read the html table from the URL and treat the columns\n",
    "        df_ecl_s = pd.read_html(url, header= [0])[0]\n",
    "        df_ecl_s.columns = df_ecl_s.iloc[0]\n",
    "        df_ecl_s = df_ecl_s[1:]\n",
    "        df_ecl_s = df_ecl_s.drop(index = 1)\n",
    "        df_ecl_s = df_ecl_s.drop(['TD of Greatest Eclipse', 'Saros Series', 'Eclipse Magnitude', 'Central Duration',\n",
    "                                 'Geographic Region of Eclipse Visibility'], axis = 1)\n",
    "        df_ecl_s = df_ecl_s.rename(columns = {'Calendar Date': 'Date', 'Eclipse Type': 'Solar Eclipse Intensity Type'})\n",
    "        df_ecl_s = df_ecl_s.dropna(axis=1, how = 'all')\n",
    "        df_ecl_s = df_ecl_s[df_ecl_s['Date'] >= '1928-01-01']\n",
    "        \n",
    "        table.append(df_ecl_s)\n",
    "    \n",
    "        df_ecl_s['Date'] = pd.to_datetime(df_ecl_s['Date'], format='%Y %b %d')\n",
    "        \n",
    "    except Exception as e:\n",
    "        print(f\"Error: Unable to read {url} erro: {e}\")\n",
    "\n",
    "#concatenate the table\n",
    "df_concat_ecl_s = pd.concat(table, ignore_index = True)    "
   ]
  },
  {
   "cell_type": "code",
   "execution_count": 6,
   "id": "4b55aac9",
   "metadata": {
    "ExecuteTime": {
     "end_time": "2023-04-23T03:32:13.077635Z",
     "start_time": "2023-04-23T03:32:13.047792Z"
    },
    "hidden": true
   },
   "outputs": [
    {
     "data": {
      "text/html": [
       "<div>\n",
       "<style scoped>\n",
       "    .dataframe tbody tr th:only-of-type {\n",
       "        vertical-align: middle;\n",
       "    }\n",
       "\n",
       "    .dataframe tbody tr th {\n",
       "        vertical-align: top;\n",
       "    }\n",
       "\n",
       "    .dataframe thead th {\n",
       "        text-align: right;\n",
       "    }\n",
       "</style>\n",
       "<table border=\"1\" class=\"dataframe\">\n",
       "  <thead>\n",
       "    <tr style=\"text-align: right;\">\n",
       "      <th></th>\n",
       "      <th>Date</th>\n",
       "      <th>Solar Eclipse Intensity Type</th>\n",
       "    </tr>\n",
       "  </thead>\n",
       "  <tbody>\n",
       "    <tr>\n",
       "      <th>0</th>\n",
       "      <td>1929-05-09</td>\n",
       "      <td>Total</td>\n",
       "    </tr>\n",
       "    <tr>\n",
       "      <th>1</th>\n",
       "      <td>1929-11-01</td>\n",
       "      <td>Annular</td>\n",
       "    </tr>\n",
       "    <tr>\n",
       "      <th>2</th>\n",
       "      <td>1930-04-28</td>\n",
       "      <td>Hybrid</td>\n",
       "    </tr>\n",
       "    <tr>\n",
       "      <th>3</th>\n",
       "      <td>1930-10-21</td>\n",
       "      <td>Total</td>\n",
       "    </tr>\n",
       "    <tr>\n",
       "      <th>4</th>\n",
       "      <td>1931-04-18</td>\n",
       "      <td>Partial</td>\n",
       "    </tr>\n",
       "    <tr>\n",
       "      <th>...</th>\n",
       "      <td>...</td>\n",
       "      <td>...</td>\n",
       "    </tr>\n",
       "    <tr>\n",
       "      <th>223</th>\n",
       "      <td>2029-06-12</td>\n",
       "      <td>Partial</td>\n",
       "    </tr>\n",
       "    <tr>\n",
       "      <th>224</th>\n",
       "      <td>2029-07-11</td>\n",
       "      <td>Partial</td>\n",
       "    </tr>\n",
       "    <tr>\n",
       "      <th>225</th>\n",
       "      <td>2029-12-05</td>\n",
       "      <td>Partial</td>\n",
       "    </tr>\n",
       "    <tr>\n",
       "      <th>226</th>\n",
       "      <td>2030-06-01</td>\n",
       "      <td>Annular</td>\n",
       "    </tr>\n",
       "    <tr>\n",
       "      <th>227</th>\n",
       "      <td>2030-11-25</td>\n",
       "      <td>Total</td>\n",
       "    </tr>\n",
       "  </tbody>\n",
       "</table>\n",
       "<p>228 rows × 2 columns</p>\n",
       "</div>"
      ],
      "text/plain": [
       "0         Date Solar Eclipse Intensity Type\n",
       "0   1929-05-09                        Total\n",
       "1   1929-11-01                      Annular\n",
       "2   1930-04-28                       Hybrid\n",
       "3   1930-10-21                        Total\n",
       "4   1931-04-18                      Partial\n",
       "..         ...                          ...\n",
       "223 2029-06-12                      Partial\n",
       "224 2029-07-11                      Partial\n",
       "225 2029-12-05                      Partial\n",
       "226 2030-06-01                      Annular\n",
       "227 2030-11-25                        Total\n",
       "\n",
       "[228 rows x 2 columns]"
      ]
     },
     "execution_count": 6,
     "metadata": {},
     "output_type": "execute_result"
    }
   ],
   "source": [
    "df_concat_ecl_s"
   ]
  },
  {
   "cell_type": "code",
   "execution_count": 7,
   "id": "eec6517d",
   "metadata": {
    "ExecuteTime": {
     "end_time": "2023-04-23T03:32:13.093562Z",
     "start_time": "2023-04-23T03:32:13.078602Z"
    },
    "hidden": true
   },
   "outputs": [
    {
     "name": "stdout",
     "output_type": "stream",
     "text": [
      "Date column has NaN: False\n",
      "Solar Eclipse Intensity Type column has NaN: False\n",
      "Solar Eclipse Intensity Type column has numeric digits: False\n",
      "Solar Eclipse Intensity Type column has special characters: False\n"
     ]
    }
   ],
   "source": [
    "date_nan = df_concat_ecl_s['Date'].isna().any()\n",
    "ecl_s_nan = df_concat_ecl_s['Solar Eclipse Intensity Type'].isna().any()\n",
    "print(f\"Date column has NaN: {date_nan}\\nSolar Eclipse Intensity Type column has NaN: {ecl_s_nan}\")\n",
    "\n",
    "#check if there are numeric digits in the columns\n",
    "ecl_s_digits = df_concat_ecl_s['Solar Eclipse Intensity Type'].str.contains(r'\\d').any()\n",
    "print(f\"Solar Eclipse Intensity Type column has numeric digits: {ecl_s_digits}\")\n",
    "\n",
    "#check if there are spcial characters in the columns\n",
    "ecl_s_special = df_concat_ecl_s['Solar Eclipse Intensity Type'].str.contains(r'[!@#$%^&*(),.?\":{}|<>]').any()\n",
    "print(f\"Solar Eclipse Intensity Type column has special characters: {ecl_s_special}\")"
   ]
  },
  {
   "cell_type": "code",
   "execution_count": 8,
   "id": "0dbe2b47",
   "metadata": {
    "ExecuteTime": {
     "end_time": "2023-04-23T03:32:13.125277Z",
     "start_time": "2023-04-23T03:32:13.096568Z"
    },
    "hidden": true
   },
   "outputs": [],
   "source": [
    "df_concat_ecl_s.to_csv(r'C:\\Users\\PC\\Desktop\\Ironhack\\WR_Ironhack_Projects\\Stock&Moon\\solar_eclipses.csv', index = False)"
   ]
  }
 ],
 "metadata": {
  "kernelspec": {
   "display_name": "Python 3 (ipykernel)",
   "language": "python",
   "name": "python3"
  },
  "language_info": {
   "codemirror_mode": {
    "name": "ipython",
    "version": 3
   },
   "file_extension": ".py",
   "mimetype": "text/x-python",
   "name": "python",
   "nbconvert_exporter": "python",
   "pygments_lexer": "ipython3",
   "version": "3.9.13"
  },
  "toc": {
   "base_numbering": 1,
   "nav_menu": {},
   "number_sections": true,
   "sideBar": true,
   "skip_h1_title": false,
   "title_cell": "Table of Contents",
   "title_sidebar": "Contents",
   "toc_cell": false,
   "toc_position": {},
   "toc_section_display": true,
   "toc_window_display": false
  },
  "varInspector": {
   "cols": {
    "lenName": 16,
    "lenType": 16,
    "lenVar": 40
   },
   "kernels_config": {
    "python": {
     "delete_cmd_postfix": "",
     "delete_cmd_prefix": "del ",
     "library": "var_list.py",
     "varRefreshCmd": "print(var_dic_list())"
    },
    "r": {
     "delete_cmd_postfix": ") ",
     "delete_cmd_prefix": "rm(",
     "library": "var_list.r",
     "varRefreshCmd": "cat(var_dic_list()) "
    }
   },
   "types_to_exclude": [
    "module",
    "function",
    "builtin_function_or_method",
    "instance",
    "_Feature"
   ],
   "window_display": false
  }
 },
 "nbformat": 4,
 "nbformat_minor": 5
}
